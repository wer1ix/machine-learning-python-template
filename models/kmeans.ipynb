{
 "cells": [
  {
   "cell_type": "markdown",
   "id": "b9d32e43",
   "metadata": {},
   "source": [
    "# Clasificador de Vinos con KNN\n",
    "\n",
    "Entrena un modelo de K-Vecinos más Cercanos (KNN) para predecir la calidad de un vino tinto a partir de sus características químicas. ¿Podría una IA ayudarte a elegir un vino digno de sommelier?\n",
    "\n",
    "Utilizaremos el siguiente dataset de vinos tintos extraido de Wine Quality Data Set - UCI: \n",
    "\n",
    "https://raw.githubusercontent.com/4GeeksAcademy/k-nearest-neighbors-project-tutorial/refs/heads/main/winequality-red.csv\n",
    "\n",
    "### Descripción de las columnas\n",
    "\n",
    "Cada fila representa un vino. Las columnas describen su composición química:\n",
    "* fixed acidity, volatile acidity, citric acid\n",
    "* residual sugar, chlorides\n",
    "* free sulfur dioxide, total sulfur dioxide\n",
    "* density, pH, sulphates, alcohol\n",
    "\n",
    "La columna objetivo es label:\n",
    "* 0 = Baja calidad\n",
    "* 1 = Calidad media\n",
    "* 2 = Alta calidad\n"
   ]
  },
  {
   "cell_type": "markdown",
   "id": "471476b5",
   "metadata": {},
   "source": []
  }
 ],
 "metadata": {
  "language_info": {
   "name": "python"
  }
 },
 "nbformat": 4,
 "nbformat_minor": 5
}
